{
  "cells": [
    {
      "cell_type": "markdown",
      "metadata": {
        "id": "dLbIzA_JmxI1"
      },
      "source": [
        "# Reto 1 Mision Tic Ciclo1"
      ]
    },
    {
      "cell_type": "code",
      "execution_count": null,
      "metadata": {
        "colab": {
          "base_uri": "https://localhost:8080/"
        },
        "id": "EDJmFi3PNjak",
        "outputId": "2c4cffa8-3473-40f4-e4c2-64f7d31a6302"
      },
      "outputs": [
        {
          "name": "stdout",
          "output_type": "stream",
          "text": [
            "Ingrese un numero5\n",
            "¡Ups! Te pasaste\n"
          ]
        }
      ],
      "source": [
        "import random\n",
        "vmin = 0\n",
        "vmax = 40\n",
        "b = 33\n",
        "n = 17\n",
        "p1 = int(input(\"Ingrese un numero\"))\n",
        "if p1 > n:\n",
        "    print(\"¡Ups! Estas por debajo\")\n",
        "if p1 < n:\n",
        "    print(\"¡Ups! Te pasaste\")\n",
        "if p1 == n:\n",
        "    print(\"LO lograste\")        "
      ]
    },
    {
      "cell_type": "code",
      "execution_count": null,
      "metadata": {
        "colab": {
          "base_uri": "https://localhost:8080/"
        },
        "id": "1wQCOHAmIL7t",
        "outputId": "2a978bbd-e88b-4a8d-a608-b11dba4bb984"
      },
      "outputs": [
        {
          "name": "stdout",
          "output_type": "stream",
          "text": [
            "ingrese num mat2\n",
            "ingrese materiaa\n",
            "ingrese la nota de la materia2\n",
            "ingrese materias\n",
            "ingrese la nota de la materia3\n",
            "la materia:a  con la nota:2.0\n",
            "la materia:s  con la nota:3.0\n"
          ]
        }
      ],
      "source": [
        "num_mat = int(input(\"ingrese num mat\"))\n",
        "materia=[]\n",
        "nota=[]\n",
        "for i in range(0,num_mat):\n",
        "    materia.append(input(\"ingrese materia\"))\n",
        "    nota.append(float(input(\"ingrese la nota de la materia\")))\n",
        "for i in range(0,num_mat):\n",
        "    print(f'la materia:{materia[i]}  con la nota:{nota[i]}') "
      ]
    },
    {
      "cell_type": "code",
      "execution_count": null,
      "metadata": {
        "id": "u-9ms1t493m3"
      },
      "outputs": [],
      "source": []
    },
    {
      "cell_type": "code",
      "execution_count": null,
      "metadata": {
        "id": "bghoKZwLFINE"
      },
      "outputs": [],
      "source": [
        "#@title\n",
        "from IPython.core.magic import  Magics, magics_class, cell_magic, line_magic\n",
        "\n",
        "@magics_class\n",
        "class Helper(Magics):\n",
        "\n",
        "  def __init__(self, shell=None,  **kwargs):\n",
        "    super().__init__(shell=shell, **kwargs)\n",
        "\n",
        "  @cell_magic\n",
        "  def debug_cell_with_pytutor(self, line, cell):\n",
        "    import urllib.parse\n",
        "    url_src = urllib.parse.quote(cell)\n",
        "    str_begin = '<iframe width=\"1000\" height=\"500\" frameborder=\"0\" src=\"https://pythontutor.com/iframe-embed.html#code='\n",
        "    str_end   = '&cumulative=false&py=3&curInstr=0\"></iframe>'\n",
        "    import IPython\n",
        "    from google.colab import output\n",
        "    display(IPython.display.HTML(str_begin+url_src+str_end))\n",
        "\n",
        "get_ipython().register_magics(Helper)"
      ]
    },
    {
      "cell_type": "code",
      "execution_count": null,
      "metadata": {
        "id": "E0WALabG-eMD"
      },
      "outputs": [],
      "source": [
        "ac, ap, av = 60.1/1000, 30.5/1000, -24.4/1000  #aportes carboidratos, proteina, verduras\n",
        "pc, pp, pv = 1, 1, 1  #porciones carboidratos, proteina, verduras"
      ]
    },
    {
      "cell_type": "code",
      "execution_count": null,
      "metadata": {
        "colab": {
          "base_uri": "https://localhost:8080/"
        },
        "id": "VqgpKepfnOPc",
        "outputId": "1c9581c1-f1df-4445-aa76-8b62d7c76dcc"
      },
      "outputs": [
        {
          "name": "stdout",
          "output_type": "stream",
          "text": [
            "El estado nutricional del paciente es C y se requieren 1924 dias de dieta para que alcance el peso maximo\n",
            "El estado nutricional del paciente es B y se requieren 194 dias de dieta para que alcance un peso saludable\n",
            "El estado nutricional del paciente es C y se requieren 1154 dias de dieta para que alcance el peso maximo\n",
            "El estado nutricional del paciente es A y se requieren 69 dias de dieta para que alcance un peso saludable\n",
            "El estado nutricional del paciente es C y se requieren 4616 dias de dieta para que alcance el peso maximo\n"
          ]
        }
      ],
      "source": [
        "# %%debug_cell_with_pytutor\n",
        "def solucion(edad, peso):\n",
        "    c, ap, av = 60.1/1000, 30.5/1000, -24.4/1000  #aportes carboidratos, proteina, verduras\n",
        "    pc, pp, pv = 1, 1, 1  #porciones carboidratos, proteina, verduras\n",
        "\n",
        "    condicion, estado =\"un peso saludable\", \"No esta dentro de los rangos a medir\"\n",
        "    diccCondc = {\"A\":\"un peso saludable\", \"B\":\"un peso saludable\", \"C\":\"el peso maximo\"}\n",
        "    dias=0\n",
        "    edades = [ [5,10], [10,13], [13,17] ]                       # rango de edades\n",
        "\n",
        "    #edad=float(input(\"Indicar la edad del paciente:\"))\n",
        "    #peso=float(input(\"Indicar el peso del paciente en kilogramos:\"))\n",
        "\n",
        "    #rango de edades\n",
        "    diccTipo={0:\"menor\", 1:\"mediano\", 2:\"mayor\"}  \n",
        "\n",
        "    #rango de pesos\n",
        "    diicPeso={\"menor\":    [ [0,16], [16,28], [28,120] ],\n",
        "            \"mediano\":  [ [0,30], [30,50], [50,120] ],\n",
        "            \"mayor\":    [ [0,51], [51,63], [63,120] ]      }\n",
        "\n",
        "    #grupo nutricional\n",
        "    diccEst={0:\"A\", 2:\"B\", 1:\"C\"}\n",
        "    \n",
        "    #grupo peso objetivo\n",
        "    diccOBPeso={\"menor\":  [ 22, 28, 24 ],\n",
        "              \"mediano\":  [ 32, 50, 43 ],\n",
        "              \"mayor\":  [ 56, 63, 58 ]   }\n",
        "    \n",
        "    #grupo porciones\n",
        "    diccPorc = { \"A\": [2, 1, 2],\n",
        "                 \"B\": [0.6, 1, 4],\n",
        "                 \"C\": [0.5, 0.7, 2]\n",
        "                }\n",
        "\n",
        "    for i in range(0,len(edades)) :                            # en un rango de 0 # de rango edades\n",
        "        if edad > edades[i][0] and edad <=  edades[i][1]  :    # evalua en que reango esta\n",
        "            tipo = diccTipo[i]                                 #asigna segun el rango\n",
        "            for i in range(0,len(diicPeso)) :                  # en rango de 0 a # de pesos\n",
        "                if peso >= diicPeso[tipo][i][0] and peso <=  diicPeso[tipo][i][1]  : \n",
        "                    estado = diccEst[i]                        # asigma segun rango que pertenece\n",
        "                    condicion=diccCondc[estado]                # indica que variacion de texto imprime\n",
        "                    tipe = i                                   # tipo perteneciente para evaluar en diccionario\n",
        "                    \n",
        "                    pc, pp, pv = diccPorc[estado]             #asigna porciones según estado\n",
        "                    cant= pc*ac + pp*ap + pv*av               #aplica formula porciones*cantidades\n",
        "\n",
        "    if peso < diccOBPeso[tipo][tipe]:\n",
        "        while peso < diccOBPeso[tipo][tipe]:\n",
        "            peso += cant\n",
        "            dias += 1\n",
        "            \n",
        "    elif peso > diccOBPeso[tipo][tipe]:\n",
        "        while peso > diccOBPeso[tipo][tipe]:\n",
        "            peso += cant\n",
        "            dias += 1\n",
        "                            \n",
        "\n",
        "    print(f'El estado nutricional del paciente es {estado} y se requieren {dias} dias de dieta para que alcance {condicion}')\n",
        "\n",
        "    #ACÁ TERMINA LA FUNCIÓN SOLUCIÓN\n",
        "\n",
        "\n",
        "solucion(13,45)    \n",
        "solucion(10,30)    \n",
        "solucion(15,60)    \n",
        "solucion(8,15)    \n",
        "solucion(6,16)"
      ]
    }
  ],
  "metadata": {
    "colab": {
      "name": "Reto_1.ipynb",
      "provenance": []
    },
    "kernelspec": {
      "display_name": "Python 3",
      "name": "python3"
    },
    "language_info": {
      "name": "python"
    }
  },
  "nbformat": 4,
  "nbformat_minor": 0
}
